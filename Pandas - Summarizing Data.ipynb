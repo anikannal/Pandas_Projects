{
 "cells": [
  {
   "cell_type": "markdown",
   "metadata": {},
   "source": [
    "# Pandas Groupby: Summarising, Aggregating, and Grouping data in Python"
   ]
  },
  {
   "cell_type": "markdown",
   "metadata": {},
   "source": [
    "In this short project we will be exploring grouping large data frames by different variables, and applying summary functions on each group. This is accomplished in Pandas using the “groupby()” and “agg()” functions of Panda’s DataFrame objects.\n",
    "\n",
    "For our project we will be using the Campus Placements dataset from Kaggle. For more details on this dataset you can check this link - https://www.kaggle.com/benroshan/factors-affecting-campus-placement.\n",
    "\n",
    "We have covered the basics of DataFrames and how to lead them and manipulate data in the project \"Pandas - Loading and Manipulating Data\". We suggest you complete that before you start with this project. "
   ]
  },
  {
   "cell_type": "markdown",
   "metadata": {},
   "source": [
    "## What is the GroupBy function?\n",
    "\n",
    "Pandas’ GroupBy is a powerful and versatile function in Python. It allows you to split your data into separate groups to perform computations for better analysis.\n",
    "\n",
    "Let me take an example to elaborate on this. Let’s say we are trying to analyze the salary of a person in an MBA batch. We can easily get a fair idea of their salary by determining the mean salary of the whole batch. But here ‘s a question – would the salary be affected by the gender of a person?\n",
    "\n",
    "We can group the batch into different gender groups and calculate their mean salary. This would give us a better insight into the salary of a student in the batch we are analyzing. But we can probably get an even better picture if we further separate these gender groups into different groups by the students prior degree and then take their mean salary. Maybe the prior degree has an impact on the earning potential after an MBA?\n",
    "\n",
    "You can see how separating people into separate groups and then applying a statistical value allows us to make better analysis than just looking at the statistical value of the entire population. This is what makes GroupBy so great!\n",
    "\n",
    "GroupBy allows us to group our data based on different features and get a more accurate idea about your data. It is a one-stop-shop for deriving deep insights from your data!"
   ]
  },
  {
   "cell_type": "markdown",
   "metadata": {},
   "source": [
    "## This Lab Contains - \n",
    "\n",
    "1. [Loading the Data](#section1)\n",
    "2. [Accessing the Data](#section2)\n",
    "3. [Summarising the DataFrame](#section3)\n",
    "4. [Summarising by Groups in the DataFrame](#section4)\n",
    "5. [Summary Statistics by the Group](#section5)\n",
    "    - [Multiple statistics by the Group](#section6)\n",
    "6. [Renaming Grouped Aggregation Columns](#section7)\n",
    "7. [Pivot Tables](#section8)"
   ]
  },
  {
   "cell_type": "markdown",
   "metadata": {},
   "source": [
    "----\n",
    "<a id='section1'></a>\n",
    "## Loading the Data\n",
    "Let's start then!\n",
    "\n",
    "We will start by loading the data from the .csv file and applying the date parser to it - "
   ]
  },
  {
   "cell_type": "code",
   "execution_count": 2,
   "metadata": {},
   "outputs": [],
   "source": [
    "# We will use pandas for storing and manipulating data\n",
    "import pandas as pd\n",
    "\n",
    "# Load data from csv file\n",
    "data = pd.read_csv('https://raw.githubusercontent.com/anikannal/data/master/Placement_Data.csv')\n"
   ]
  },
  {
   "cell_type": "markdown",
   "metadata": {},
   "source": [
    "<a id='section2'></a>\n",
    "## Accessing the Data\n",
    "\n",
    "Now that we have the data loaded in a pandas dataframe, let's understand how to access the data."
   ]
  },
  {
   "cell_type": "code",
   "execution_count": null,
   "metadata": {},
   "outputs": [],
   "source": [
    "# Look at all the column names and datatypes\n",
    "# This is the placements data of an MBA batch\n",
    "\n",
    "data.info()"
   ]
  },
  {
   "cell_type": "code",
   "execution_count": null,
   "metadata": {},
   "outputs": [],
   "source": [
    "# To access first few rows of the dataframe\n",
    "\n",
    "data.head()"
   ]
  },
  {
   "cell_type": "markdown",
   "metadata": {},
   "source": [
    "What did we learn about our dataset?\n",
    "\n",
    "1. sl_no - serial number / roll number - this is a unique identifier\n",
    "2. gender - gender of the student\n",
    "3. ssc_p - SSC percentage scored by the student\n",
    "4. ssc_b - SSC board the student graduated from (central, others)\n",
    "5. hsc_p - HSC percentage scored by the student\n",
    "6. hsc_b - HSC board the student graduated from (central, others)\n",
    "7. hsc_s - HSC specialization (science, commerce, arts)\n",
    "8. degree_p - student's prior degree percentage\n",
    "9. degree_t - student's degree type (sci and tech, comm & management, etc.)\n",
    "10. workex - work experience yes/no\n",
    "11. etest_p - employability test percentage\n",
    "12. specialisation - this is the student's mba specialization\n",
    "13. mba_p - mba percentage for the student\n",
    "14. status - placed/not placed\n",
    "15. salary - salary offered by the recruiting company"
   ]
  },
  {
   "cell_type": "code",
   "execution_count": null,
   "metadata": {},
   "outputs": [],
   "source": [
    "# To access one of the columns -\n",
    "\n",
    "data['ssc_p']"
   ]
  },
  {
   "cell_type": "code",
   "execution_count": null,
   "metadata": {},
   "outputs": [],
   "source": [
    "# To access two or more columns - \n",
    "\n",
    "data[['ssc_p','ssc_b']]"
   ]
  },
  {
   "cell_type": "code",
   "execution_count": null,
   "metadata": {},
   "outputs": [],
   "source": [
    "# To filter data based on some condition - \n",
    "# Can you show me all students with ssc percentages greater than 70?\n",
    "\n",
    "data[data['ssc_p']>70]"
   ]
  },
  {
   "cell_type": "code",
   "execution_count": null,
   "metadata": {},
   "outputs": [],
   "source": [
    "# To filter a column based on some condition - \n",
    "# Can you find the placement status of all students whose HSC stream was Science?\n",
    "\n",
    "data['status'][data['hsc_s']=='Science']"
   ]
  },
  {
   "cell_type": "markdown",
   "metadata": {},
   "source": [
    "<a id='section3'></a>\n",
    "## Summarising the DataFrame\n",
    "\n",
    "Once the data has been loaded into Python, Pandas makes the calculation of different statistics very simple. For example, mean, max, min, standard deviations and more for columns are easily calculable."
   ]
  },
  {
   "cell_type": "code",
   "execution_count": null,
   "metadata": {},
   "outputs": [],
   "source": [
    "# How many rows in the dataset\n",
    "\n",
    "data['item'].count()"
   ]
  },
  {
   "cell_type": "code",
   "execution_count": null,
   "metadata": {},
   "outputs": [],
   "source": [
    "# What was the highest employability test score?\n",
    "\n",
    "data['etest_p'].max()"
   ]
  },
  {
   "cell_type": "code",
   "execution_count": null,
   "metadata": {},
   "outputs": [],
   "source": [
    "# What was the highest salary for a student with a Sci&Tech undergraduate degree?\n",
    "\n",
    "data['salary'][data['degree_t']=='Sci&Tech'].max()"
   ]
  },
  {
   "cell_type": "code",
   "execution_count": null,
   "metadata": {},
   "outputs": [],
   "source": [
    "# What is the total of all salary packages offered to students in 'Mkt&Fin' specialization?\n",
    "\n",
    "data['salary'][data['specialisation'] == 'Mkt&Fin'].sum()"
   ]
  },
  {
   "cell_type": "code",
   "execution_count": null,
   "metadata": {},
   "outputs": [],
   "source": [
    "# How many students are there in each specialization?\n",
    "\n",
    "data['specialisation'].value_counts()"
   ]
  },
  {
   "cell_type": "code",
   "execution_count": null,
   "metadata": {},
   "outputs": [],
   "source": [
    "# What are the number of non-null unique degree types?\n",
    "\n",
    "data['degree_t'].nunique()"
   ]
  },
  {
   "cell_type": "code",
   "execution_count": null,
   "metadata": {},
   "outputs": [],
   "source": [
    "# What are the unique degree types?\n",
    "\n",
    "data['degree_t'].unique()"
   ]
  },
  {
   "cell_type": "code",
   "execution_count": null,
   "metadata": {},
   "outputs": [],
   "source": [
    "# Do any of the columns have NaN or Null values?\n",
    "\n",
    "data.isnull().any()"
   ]
  },
  {
   "cell_type": "code",
   "execution_count": null,
   "metadata": {},
   "outputs": [],
   "source": [
    "# How many?\n",
    "\n",
    "data.isnull().sum()"
   ]
  },
  {
   "cell_type": "markdown",
   "metadata": {},
   "source": [
    "The salary column has 67 'nan' values! Lets replace those with a zero for ease of analysis -"
   ]
  },
  {
   "cell_type": "code",
   "execution_count": null,
   "metadata": {},
   "outputs": [],
   "source": [
    "data['salary'] = data['salary'].fillna(0)"
   ]
  },
  {
   "cell_type": "markdown",
   "metadata": {},
   "source": [
    "The .describe() function is a useful summarisation tool that will quickly display statistics for any variable or group it is applied to. The describe() output varies depending on whether you apply it to a numeric or character column."
   ]
  },
  {
   "cell_type": "code",
   "execution_count": null,
   "metadata": {},
   "outputs": [],
   "source": [
    "# Let's find out more about the network column\n",
    "\n",
    "data['salary'].describe()"
   ]
  },
  {
   "cell_type": "code",
   "execution_count": null,
   "metadata": {},
   "outputs": [],
   "source": [
    "# Let's find out more about the gender ratio\n",
    "\n",
    "data['gender'].describe()"
   ]
  },
  {
   "cell_type": "markdown",
   "metadata": {},
   "source": [
    "<a id='section4'></a>\n",
    "## Summarising by Groups in the DataFrame\n",
    "\n",
    "We have learnt to access specific columns and rows, filtering based on conditions, and summarizing specific columns.\n",
    "\n",
    "There’s further power put into your hands by mastering the Pandas “groupby()” functionality. Groupby essentially splits the data into different groups depending on a variable of your choice. For example, the expression data.groupby(‘month’)  will split our current DataFrame by month."
   ]
  },
  {
   "cell_type": "code",
   "execution_count": null,
   "metadata": {},
   "outputs": [],
   "source": [
    "# Let's group the dataframe by the students' specialization\n",
    "\n",
    "data.groupby(['specialisation'])"
   ]
  },
  {
   "cell_type": "markdown",
   "metadata": {},
   "source": [
    "Notice - the groupby() function returns a DataFrameGroupBy object. Unlike the dataframe which displays itself this object doesnt!\n",
    "\n",
    "The groupby() function returns a GroupBy object, but essentially describes how the rows of the original data set has been split. The GroupBy object .groups variable is a dictionary whose keys are the computed unique groups and corresponding values being the axis labels belonging to each group. For example:"
   ]
  },
  {
   "cell_type": "code",
   "execution_count": null,
   "metadata": {},
   "outputs": [],
   "source": [
    "# The GroupBy object .groups variable is a dictionary\n",
    "\n",
    "type(data.groupby(['specialisation']).groups)"
   ]
  },
  {
   "cell_type": "code",
   "execution_count": null,
   "metadata": {},
   "outputs": [],
   "source": [
    "# The GroupBy object .groups variable is a dictionary whose keys are the computed unique groups \n",
    "# and corresponding values being the groupings\n",
    "\n",
    "data.groupby(['specialisation']).groups.keys()"
   ]
  },
  {
   "cell_type": "code",
   "execution_count": null,
   "metadata": {},
   "outputs": [],
   "source": [
    "# Accessing the groups\n",
    "# How many students have a Marketing and HR specialization?\n",
    "\n",
    "len(data.groupby(['specialisation']).groups['Mkt&HR'])"
   ]
  },
  {
   "cell_type": "markdown",
   "metadata": {},
   "source": [
    "There are 95 students with a Marketing and HR specialization."
   ]
  },
  {
   "cell_type": "markdown",
   "metadata": {},
   "source": [
    "<a id='section5'></a>\n",
    "## Summary Statistics \n",
    "Functions like max(), min(), mean(), first(), last() can be quickly applied to the GroupBy object to obtain summary statistics for each group – an immensely useful function."
   ]
  },
  {
   "cell_type": "code",
   "execution_count": null,
   "metadata": {},
   "outputs": [],
   "source": [
    "# Using grouping and summary functions together - \n",
    "# Who is the top student for each specialization?\n",
    "\n",
    "data.groupby('specialisation')['mba_p'].max()"
   ]
  },
  {
   "cell_type": "code",
   "execution_count": null,
   "metadata": {},
   "outputs": [],
   "source": [
    "# What is the total salary offered to students in each specialization?\n",
    "\n",
    "data.groupby('specialisation')['salary'].sum()"
   ]
  },
  {
   "cell_type": "code",
   "execution_count": null,
   "metadata": {},
   "outputs": [],
   "source": [
    "# What is the mean salary offered to students in each specialization?\n",
    "\n",
    "data.groupby('specialisation')['salary'].mean()"
   ]
  },
  {
   "cell_type": "code",
   "execution_count": 3,
   "metadata": {},
   "outputs": [
    {
     "data": {
      "text/plain": [
       "specialisation\n",
       "Mkt&Fin    322720.0\n",
       "Mkt&HR     301937.5\n",
       "Name: salary, dtype: float64"
      ]
     },
     "execution_count": 3,
     "metadata": {},
     "output_type": "execute_result"
    }
   ],
   "source": [
    "# What is the mean salary for students with prior degree in Sci&Tech grouped by specialization?\n",
    "# Do students with prior degree in Sci&Tech get better salaries by doing a Mkt&Fin or Mkt&Hr specialization?\n",
    "\n",
    "data[data['degree_t'] == 'Sci&Tech'].groupby('specialisation')['salary'].mean()"
   ]
  },
  {
   "cell_type": "markdown",
   "metadata": {},
   "source": [
    "**Grouping by multiple variables**\n",
    "\n",
    "You can also group by more than one variable, allowing more complex queries."
   ]
  },
  {
   "cell_type": "code",
   "execution_count": 4,
   "metadata": {},
   "outputs": [
    {
     "data": {
      "text/plain": [
       "specialisation  gender\n",
       "Mkt&Fin         F         37\n",
       "                M         83\n",
       "Mkt&HR          F         39\n",
       "                M         56\n",
       "Name: gender, dtype: int64"
      ]
     },
     "execution_count": 4,
     "metadata": {},
     "output_type": "execute_result"
    }
   ],
   "source": [
    "# Grouping by multiple variables/column values.\n",
    "# Can you find the male/female counts by specialization? Do you see females favoring one over the other?\n",
    "\n",
    "data.groupby(['specialisation','gender'])['gender'].count()\n",
    "\n",
    "# Do you think female students prefer HR or Finance?"
   ]
  },
  {
   "cell_type": "code",
   "execution_count": null,
   "metadata": {},
   "outputs": [],
   "source": [
    "# Does the prior degree or specialization matter for expected salary for a student?\n",
    "# What is the mean salary for students with different specializations and prior degrees?\n",
    "\n",
    "data.groupby(['degree_t','specialisation'])['salary'].mean()\n"
   ]
  },
  {
   "cell_type": "markdown",
   "metadata": {},
   "source": [
    "#### Groupby output format – Series or DataFrame?\n",
    "\n",
    "The output from a groupby and aggregation operation varies between Pandas Series and Pandas Dataframes, which can be confusing for new users. As a rule of thumb, if you calculate more than one column of results, your result will be a Dataframe. For a single column of results, the agg function, by default, will produce a Series."
   ]
  },
  {
   "cell_type": "code",
   "execution_count": null,
   "metadata": {},
   "outputs": [],
   "source": [
    "# produces Pandas Series\n",
    "\n",
    "print(type(data.groupby('specialisation')['salary'].mean()))\n",
    "\n",
    "data.groupby('specialisation')['salary'].mean()"
   ]
  },
  {
   "cell_type": "code",
   "execution_count": null,
   "metadata": {},
   "outputs": [],
   "source": [
    "# To get a Pandas DataFrame you could select your operation column differently\n",
    "# notice the double brackets around 'salary'\n",
    "\n",
    "print(type(data.groupby('specialisation')[['salary']].mean()))\n",
    "\n",
    "data.groupby('specialisation')[['salary']].sum()"
   ]
  },
  {
   "cell_type": "code",
   "execution_count": null,
   "metadata": {},
   "outputs": [],
   "source": [
    "# To explicitly set the index pass the as_index=False parameter\n",
    "\n",
    "data.groupby('specialisation', as_index=False)['salary'].mean()"
   ]
  },
  {
   "cell_type": "markdown",
   "metadata": {},
   "source": [
    "<a id='section6'></a>\n",
    "### Multiple Statistics per Group\n",
    "The final piece of syntax that we’ll examine is the “agg()” function for Pandas. The aggregation functionality provided by the agg() function allows multiple statistics to be calculated per group in one calculation.\n",
    "\n",
    "We will look at two special cases - \n",
    "\n",
    "1. Applying a single function to columns in groups\n",
    "2. Applying multiple functions to columns in groups\n",
    "\n",
    "This is unequivocally the most important step of a GroupBy function where we can perform a variety of operations using aggregation, transformation, filtration or even with your own function! We have already applied various statistical functions like sum(), mean(), count(), etc.\n",
    "\n",
    "Let’s have a look at how to apply these in further detail."
   ]
  },
  {
   "cell_type": "markdown",
   "metadata": {},
   "source": [
    "#### 1. Applying a single function to columns in groups\n",
    "Instructions for aggregation are provided in the form of a python dictionary or list. The dictionary keys are used to specify the columns upon which you’d like to perform operations, and the dictionary values to specify the function to run."
   ]
  },
  {
   "cell_type": "code",
   "execution_count": null,
   "metadata": {},
   "outputs": [],
   "source": [
    "# Group the data frame by month and item and extract a number of stats from each group\n",
    "data.groupby(['degree_t', 'specialisation']).agg(\n",
    "    {\n",
    "         'salary':'mean',    # Sum duration per group\n",
    "         'gender': 'count',  # get the count of networks\n",
    "         'etest_p': 'max'  # get the first date per group\n",
    "    }\n",
    ")"
   ]
  },
  {
   "cell_type": "markdown",
   "metadata": {},
   "source": [
    "The aggregation dictionary syntax is flexible and can be defined before the operation. "
   ]
  },
  {
   "cell_type": "code",
   "execution_count": null,
   "metadata": {},
   "outputs": [],
   "source": [
    "# Define the aggregation procedure outside of the groupby operation\n",
    "# Same example as above, just defining the aggregations as a dictionary\n",
    "\n",
    "aggregations = {\n",
    "         'salary':'mean',    # Sum duration per group\n",
    "         'gender': 'count',  # get the count of networks\n",
    "         'etest_p': 'max'  # get the first date per group\n",
    "    }\n",
    "\n",
    "data.groupby(['degree_t', 'specialisation']).agg(aggregations)"
   ]
  },
  {
   "cell_type": "markdown",
   "metadata": {},
   "source": [
    "#### 2. Applying multiple functions to columns in groups\n",
    "To apply multiple functions to a single column in your grouped data, expand the syntax above to pass in a list of functions as the value in your aggregation dataframe. See below:"
   ]
  },
  {
   "cell_type": "code",
   "execution_count": null,
   "metadata": {},
   "outputs": [],
   "source": [
    "# Group the data frame by month and item and extract a number of stats from each group\n",
    "data.groupby(\n",
    "    ['degree_t', 'specialisation']\n",
    ").agg(\n",
    "    {\n",
    "        # Find the min, max, and mean of the salary column\n",
    "        'salary': [min, max, 'mean'],\n",
    "        # find the number of network type entries\n",
    "        'gender': \"count\",\n",
    "        # minimum, first, and number of the employability scores\n",
    "        'etest_p': [min, max, 'mean']\n",
    "    }\n",
    ")"
   ]
  },
  {
   "cell_type": "markdown",
   "metadata": {},
   "source": [
    "<a id='section7'></a>\n",
    "## Renaming grouped aggregation columns\n",
    "Introduced in Pandas 0.25.0, groupby aggregation with relabelling is supported using “named aggregation” with simple tuples. Python tuples are used to provide the column name on which to work on, along with the function to apply. \n"
   ]
  },
  {
   "cell_type": "code",
   "execution_count": null,
   "metadata": {
    "scrolled": false
   },
   "outputs": [],
   "source": [
    "# Is there an impact of hsc board or the prior degree on min, max, or mean salaries?\n",
    "# Are salaries dependent on hsc board or the prior degree of a student?\n",
    "\n",
    "data[data['specialisation'] == 'Mkt&Fin'].groupby(['hsc_b','degree_t']).agg(\n",
    "    # Get max of the salary column for each group\n",
    "    max_salary=('salary', max),\n",
    "    # Get min of the salary column for each group\n",
    "    min_salary=('salary', min),\n",
    "    # Get max of the hsc_p column for each group\n",
    "    mean_salary=('salary', 'mean'),\n",
    "    # Get max of the hsc_p column for each group\n",
    "\n",
    ")"
   ]
  },
  {
   "cell_type": "markdown",
   "metadata": {},
   "source": [
    "<a id='section8'></a>\n",
    "## Pivot Tables\n",
    "\n",
    "Pivot tables are another way of summarizing your data.\n",
    "\n",
    "A pivot table is composed of counts, sums, or other aggregations derived from a table of data. You may have used this feature in spreadsheets, where you would choose the rows and columns to aggregate on, and the values for those rows and columns. It allows us to summarize data as grouped by different values, including values in categorical columns.\n",
    "\n",
    "**You can define how values are grouped by:**\n",
    "\n",
    "- index= (\"Rows\" in Excel)\n",
    "- columns\n",
    "\n",
    "\n",
    "**We define which values are summarized by:**\n",
    "\n",
    "values= the name of the column of values to be aggregated in the ultimate table, then grouped by the Index and Columns and aggregated according to the Aggregation Function\n",
    "\n",
    "\n",
    "**We define how values are summarized by:**\n",
    "\n",
    "aggfunc= (Aggregation Function) how rows are summarized, such as sum, mean, or count\n",
    "\n",
    "Let's go ahead and create a pivot table for our dataframe - "
   ]
  },
  {
   "cell_type": "code",
   "execution_count": 97,
   "metadata": {},
   "outputs": [],
   "source": [
    "pivot_data = data.pivot_table(\n",
    "    index='degree_t', \n",
    "    columns=['specialisation','status'], \n",
    "    values=['gender'], \n",
    "    aggfunc='count'\n",
    ")"
   ]
  },
  {
   "cell_type": "code",
   "execution_count": 98,
   "metadata": {
    "scrolled": true
   },
   "outputs": [
    {
     "data": {
      "text/html": [
       "<div>\n",
       "<style scoped>\n",
       "    .dataframe tbody tr th:only-of-type {\n",
       "        vertical-align: middle;\n",
       "    }\n",
       "\n",
       "    .dataframe tbody tr th {\n",
       "        vertical-align: top;\n",
       "    }\n",
       "\n",
       "    .dataframe thead tr th {\n",
       "        text-align: left;\n",
       "    }\n",
       "\n",
       "    .dataframe thead tr:last-of-type th {\n",
       "        text-align: right;\n",
       "    }\n",
       "</style>\n",
       "<table border=\"1\" class=\"dataframe\">\n",
       "  <thead>\n",
       "    <tr>\n",
       "      <th></th>\n",
       "      <th colspan=\"4\" halign=\"left\">gender</th>\n",
       "    </tr>\n",
       "    <tr>\n",
       "      <th>specialisation</th>\n",
       "      <th colspan=\"2\" halign=\"left\">Mkt&amp;Fin</th>\n",
       "      <th colspan=\"2\" halign=\"left\">Mkt&amp;HR</th>\n",
       "    </tr>\n",
       "    <tr>\n",
       "      <th>status</th>\n",
       "      <th>Not Placed</th>\n",
       "      <th>Placed</th>\n",
       "      <th>Not Placed</th>\n",
       "      <th>Placed</th>\n",
       "    </tr>\n",
       "    <tr>\n",
       "      <th>degree_t</th>\n",
       "      <th></th>\n",
       "      <th></th>\n",
       "      <th></th>\n",
       "      <th></th>\n",
       "    </tr>\n",
       "  </thead>\n",
       "  <tbody>\n",
       "    <tr>\n",
       "      <td>Comm&amp;Mgmt</td>\n",
       "      <td>18</td>\n",
       "      <td>68</td>\n",
       "      <td>25</td>\n",
       "      <td>34</td>\n",
       "    </tr>\n",
       "    <tr>\n",
       "      <td>Others</td>\n",
       "      <td>2</td>\n",
       "      <td>2</td>\n",
       "      <td>4</td>\n",
       "      <td>3</td>\n",
       "    </tr>\n",
       "    <tr>\n",
       "      <td>Sci&amp;Tech</td>\n",
       "      <td>5</td>\n",
       "      <td>25</td>\n",
       "      <td>13</td>\n",
       "      <td>16</td>\n",
       "    </tr>\n",
       "  </tbody>\n",
       "</table>\n",
       "</div>"
      ],
      "text/plain": [
       "                   gender                         \n",
       "specialisation    Mkt&Fin            Mkt&HR       \n",
       "status         Not Placed Placed Not Placed Placed\n",
       "degree_t                                          \n",
       "Comm&Mgmt              18     68         25     34\n",
       "Others                  2      2          4      3\n",
       "Sci&Tech                5     25         13     16"
      ]
     },
     "execution_count": 98,
     "metadata": {},
     "output_type": "execute_result"
    }
   ],
   "source": [
    "pivot_data"
   ]
  },
  {
   "cell_type": "markdown",
   "metadata": {},
   "source": [
    "This project was created using many online resources. The most important being Shane Lynn's [blog](https://www.shanelynn.ie/) on pandas."
   ]
  }
 ],
 "metadata": {
  "kernelspec": {
   "display_name": "Python 3",
   "language": "python",
   "name": "python3"
  },
  "language_info": {
   "codemirror_mode": {
    "name": "ipython",
    "version": 3
   },
   "file_extension": ".py",
   "mimetype": "text/x-python",
   "name": "python",
   "nbconvert_exporter": "python",
   "pygments_lexer": "ipython3",
   "version": "3.7.4"
  },
  "varInspector": {
   "cols": {
    "lenName": 16,
    "lenType": 16,
    "lenVar": 40
   },
   "kernels_config": {
    "python": {
     "delete_cmd_postfix": "",
     "delete_cmd_prefix": "del ",
     "library": "var_list.py",
     "varRefreshCmd": "print(var_dic_list())"
    },
    "r": {
     "delete_cmd_postfix": ") ",
     "delete_cmd_prefix": "rm(",
     "library": "var_list.r",
     "varRefreshCmd": "cat(var_dic_list()) "
    }
   },
   "types_to_exclude": [
    "module",
    "function",
    "builtin_function_or_method",
    "instance",
    "_Feature"
   ],
   "window_display": false
  }
 },
 "nbformat": 4,
 "nbformat_minor": 2
}
